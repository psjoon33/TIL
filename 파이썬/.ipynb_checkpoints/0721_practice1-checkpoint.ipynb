{
 "cells": [
  {
   "cell_type": "markdown",
   "metadata": {
    "colab_type": "text",
    "id": "UvBJAKGK06FO"
   },
   "source": [
    "# Practice 1\n",
    "\n",
    "> 데이터 & 제어문"
   ]
  },
  {
   "cell_type": "markdown",
   "metadata": {
    "colab_type": "text",
    "id": "Z0sW43wd06FP"
   },
   "source": [
    "## 갯수 구하기\n",
    "\n",
    "> 주어진 리스트의 요소는 학생 이름으로 구성되어 있다. 학생들의 수를 출력하시오.\n",
    "\n",
    "---\n",
    "\n",
    "```\n",
    "[출력 예시]\n",
    "3\n",
    "```"
   ]
  },
  {
   "cell_type": "code",
   "execution_count": 2,
   "metadata": {
    "ExecuteTime": {
     "end_time": "2020-07-20T07:21:43.556594Z",
     "start_time": "2020-07-20T07:21:43.553351Z"
    },
    "colab": {
     "base_uri": "https://localhost:8080/",
     "height": 35
    },
    "colab_type": "code",
    "executionInfo": {
     "elapsed": 698,
     "status": "ok",
     "timestamp": 1595293321277,
     "user": {
      "displayName": "골드시티라모스",
      "photoUrl": "",
      "userId": "13726654604135759746"
     },
     "user_tz": -540
    },
    "id": "i86WfFlV06FP",
    "outputId": "a2d97017-6dbd-4988-a9fc-2fc77e2579a1"
   },
   "outputs": [
    {
     "name": "stdout",
     "output_type": "stream",
     "text": [
      "3\n"
     ]
    }
   ],
   "source": [
    "students = ['김철수', '이영희', '조민지']\n",
    "\n",
    "# 아래에 코드를 작성하시오.\n",
    "\n",
    "#len(students) \n",
    "#위의 방법도 되지만,,\n",
    "\n",
    "# student 를 쭉 보면서 한 명 한 명 이름이 나올 때 마다 count + 1을 한다. count는 0에서 시작\n",
    "\n",
    "count = 0\n",
    "for student in students:\n",
    "    count += 1\n",
    "print(count)    \n"
   ]
  },
  {
   "cell_type": "markdown",
   "metadata": {
    "colab_type": "text",
    "id": "9CXUx3Cn06FS"
   },
   "source": [
    "## 득표수 구하기\n",
    "\n",
    "> 주어진 리스트는 반장 선거 투표 결과이다. 이영희의 총 득표수를 출력하시오.\n",
    "\n",
    "---\n",
    "\n",
    "```\n",
    "[출력 예시]\n",
    "4\n",
    "```"
   ]
  },
  {
   "cell_type": "code",
   "execution_count": 6,
   "metadata": {
    "colab": {
     "base_uri": "https://localhost:8080/",
     "height": 35
    },
    "colab_type": "code",
    "executionInfo": {
     "elapsed": 622,
     "status": "ok",
     "timestamp": 1595293490957,
     "user": {
      "displayName": "골드시티라모스",
      "photoUrl": "",
      "userId": "13726654604135759746"
     },
     "user_tz": -540
    },
    "id": "jwOeoYlu06FS",
    "outputId": "690f8ffb-8fc0-42d6-9efd-605afb62bb5a"
   },
   "outputs": [
    {
     "name": "stdout",
     "output_type": "stream",
     "text": [
      "4\n"
     ]
    }
   ],
   "source": [
    "students = ['이영희', '김철수', '이영희', '조민지', '김철수', '조민지', '이영희', '이영희']\n",
    "\n",
    "# 아래에 코드를 작성하시오.\n",
    "\n",
    "#print(students.count('이영희'))\n",
    "\n",
    "\n",
    "#student를 보면서 '이영희'가 나올 때 마다 count에서 +1을 해준다 \n",
    "count = 0\n",
    "for student in students:\n",
    "    if student == '이영희':\n",
    "        count += 1\n",
    "print(count)"
   ]
  },
  {
   "cell_type": "markdown",
   "metadata": {
    "colab_type": "text",
    "id": "eQ6RDJOa06FW"
   },
   "source": [
    "## 최댓값 구하기\n",
    "\n",
    "> 주어진 리스트의 요소 중에서 최댓값을 출력하시오.\n",
    "\n",
    "---\n",
    "```\n",
    "[출력 예시]\n",
    "22\n",
    "```"
   ]
  },
  {
   "cell_type": "code",
   "execution_count": 7,
   "metadata": {
    "colab": {
     "base_uri": "https://localhost:8080/",
     "height": 35
    },
    "colab_type": "code",
    "executionInfo": {
     "elapsed": 1171,
     "status": "ok",
     "timestamp": 1595293663350,
     "user": {
      "displayName": "골드시티라모스",
      "photoUrl": "",
      "userId": "13726654604135759746"
     },
     "user_tz": -540
    },
    "id": "eXvy9HWq06FW",
    "outputId": "4a134368-8a33-4d6d-905b-39f3625c648f"
   },
   "outputs": [
    {
     "name": "stdout",
     "output_type": "stream",
     "text": [
      "22\n"
     ]
    }
   ],
   "source": [
    "numbers = [7, 10, 22, 4, 3, 17]\n",
    "\n",
    "# 아래에 코드를 작성하시오.\n",
    "\n",
    "# max(numbers)\n",
    "#의 방법도 되지만,,,\n",
    "\n",
    "#맨 처음 값을 최대값으로 생각한다\n",
    "#숫자를 하나하나 살피면서 만약 기존 최대값보다 큰 값이 등장하면 그 값으로 최대값을 갱신한다.\n",
    "# 숫자가 다 돌 때까지 반복한다.\n",
    "\n",
    "max_number = numbers[0]\n",
    "for number in numbers:\n",
    "    if max_number < number:\n",
    "        max_number = number\n",
    "print(max_number)\n",
    "    \n",
    "    "
   ]
  },
  {
   "cell_type": "markdown",
   "metadata": {
    "colab_type": "text",
    "id": "WNWNJvE706FY"
   },
   "source": [
    "## 최솟값 구하기\n",
    "\n",
    "> 주어진 리스트의 요소 중에서 최솟값을 출력하시오.\n",
    "---\n",
    "```\n",
    "[출력 예시]\n",
    "3\n",
    "```"
   ]
  },
  {
   "cell_type": "code",
   "execution_count": 8,
   "metadata": {
    "colab": {
     "base_uri": "https://localhost:8080/",
     "height": 35
    },
    "colab_type": "code",
    "executionInfo": {
     "elapsed": 1151,
     "status": "ok",
     "timestamp": 1595293672597,
     "user": {
      "displayName": "골드시티라모스",
      "photoUrl": "",
      "userId": "13726654604135759746"
     },
     "user_tz": -540
    },
    "id": "p_rhzzzv06FY",
    "outputId": "f37bb522-9e87-4f95-c5a3-8b2ddc1ebb0d"
   },
   "outputs": [
    {
     "name": "stdout",
     "output_type": "stream",
     "text": [
      "3\n"
     ]
    }
   ],
   "source": [
    "numbers = [7, 10, 22, 4, 3, 17]\n",
    "\n",
    "# 아래에 코드를 작성하시오.\n",
    "\n",
    "#min(numbers)\n",
    "\n",
    "\n",
    "min_number = numbers[0]\n",
    "for number in numbers:\n",
    "    if min_number > number:\n",
    "        min_number = number\n",
    "        \n",
    "print(min_number)"
   ]
  },
  {
   "cell_type": "markdown",
   "metadata": {
    "colab_type": "text",
    "id": "syzhpWvc06Fa"
   },
   "source": [
    "## 최댓값과 등장 횟수 구하기\n",
    "\n",
    "> 주어진 리스트의 요소 중에서 최댓값과 등장 횟수를 출력하시오.\n",
    "\n",
    "---\n",
    "\n",
    "```\n",
    "[출력 예시]\n",
    "22 3\n",
    "```"
   ]
  },
  {
   "cell_type": "code",
   "execution_count": 11,
   "metadata": {
    "ExecuteTime": {
     "end_time": "2020-07-20T07:14:08.319167Z",
     "start_time": "2020-07-20T07:14:08.316606Z"
    },
    "colab": {
     "base_uri": "https://localhost:8080/",
     "height": 35
    },
    "colab_type": "code",
    "executionInfo": {
     "elapsed": 831,
     "status": "ok",
     "timestamp": 1595293793957,
     "user": {
      "displayName": "골드시티라모스",
      "photoUrl": "",
      "userId": "13726654604135759746"
     },
     "user_tz": -540
    },
    "id": "FsA_RZh-06Fa",
    "outputId": "3b39e7dd-6564-4e19-b8e9-340508556030"
   },
   "outputs": [
    {
     "name": "stdout",
     "output_type": "stream",
     "text": [
      "22 3\n"
     ]
    }
   ],
   "source": [
    "numbers = [7, 10, 22, 7, 22, 22]\n",
    "\n",
    "# 아래에 코드를 작성하시오.\n",
    "# 최대값과 등장횟수를 기억하고 있어야 한다.\n",
    "# 최대값은 기존 최대값보다 더 큰 값이 나오면 갱신, 이때 등장횟수도 1로 초기화...\n",
    "# 최대값과 같은 숫자가 나오면 count+1\n",
    "\n",
    "max_num = numbers[0]\n",
    "count = 0\n",
    "\n",
    "for number in numbers:\n",
    "    if max_num < number:\n",
    "        max_num = number\n",
    "        count = 0\n",
    "    if max_num == number:\n",
    "        count += 1\n",
    "    \n",
    "print(max_num, count)\n",
    "\n",
    "\n",
    "\n",
    "#i = max(numbers)\n",
    "\n",
    "#print(i, numbers.count(i))"
   ]
  },
  {
   "cell_type": "markdown",
   "metadata": {
    "colab_type": "text",
    "id": "q26CxIPV06Fc"
   },
   "source": [
    "## 5의 개수 구하기\n",
    "\n",
    "> 주어진 리스트의 요소 중에서 5의 개수를 출력하시오.\n",
    "---\n",
    "```\n",
    "[출력 예시]\n",
    "3\n",
    "```"
   ]
  },
  {
   "cell_type": "code",
   "execution_count": 12,
   "metadata": {
    "colab": {
     "base_uri": "https://localhost:8080/",
     "height": 35
    },
    "colab_type": "code",
    "executionInfo": {
     "elapsed": 640,
     "status": "ok",
     "timestamp": 1595293807769,
     "user": {
      "displayName": "골드시티라모스",
      "photoUrl": "",
      "userId": "13726654604135759746"
     },
     "user_tz": -540
    },
    "id": "mH_PpwHl06Fc",
    "outputId": "e5e5231b-d95c-4aba-8adf-83092c7db58b"
   },
   "outputs": [
    {
     "name": "stdout",
     "output_type": "stream",
     "text": [
      "3\n"
     ]
    }
   ],
   "source": [
    "numbers = [7, 17, 10, 5, 4, 3, 17, 5, 2, 5]\n",
    "\n",
    "# 아래에 코드를 작성하시오.\n",
    "count = 0\n",
    "for number in numbers:\n",
    "    if number == 5:\n",
    "        count += 1\n",
    "        \n",
    "print(count)\n",
    "#numbers. count(5)"
   ]
  },
  {
   "cell_type": "markdown",
   "metadata": {
    "colab_type": "text",
    "id": "SGy88Nu406Fe"
   },
   "source": [
    "## 'a'가 싫어\n",
    "\n",
    "\n",
    "> 입력으로 짧은 영단어 word가 주어질 때, 해당 단어에서 'a'를 모두 제거한 결과를 출력하시오.\n",
    "\n",
    "---\n",
    "```\n",
    "[입력 예시]\n",
    "apple\n",
    "\n",
    "[출력 예시]\n",
    "pple\n",
    "```"
   ]
  },
  {
   "cell_type": "code",
   "execution_count": 16,
   "metadata": {
    "colab": {
     "base_uri": "https://localhost:8080/",
     "height": 53
    },
    "colab_type": "code",
    "executionInfo": {
     "elapsed": 3076,
     "status": "ok",
     "timestamp": 1595294395318,
     "user": {
      "displayName": "골드시티라모스",
      "photoUrl": "",
      "userId": "13726654604135759746"
     },
     "user_tz": -540
    },
    "id": "tEm4-Hwl06Ff",
    "outputId": "6e041f8a-c5ce-4253-c3bd-be57d6d39bde"
   },
   "outputs": [
    {
     "name": "stdout",
     "output_type": "stream",
     "text": [
      "단어를 입력해주세용 : apple\n",
      "elpp\n"
     ]
    }
   ],
   "source": [
    "word = input('단어를 입력해주세용 : ')\n",
    "\n",
    "# 아래에 코드를 작성하시오.\n",
    "# print(word. replace('a', ''))\n",
    "\n",
    "##str은 애초에 list라고 여겨짐..\n",
    "# 문자를 하나하나 a인지 보면서 하나하나 확인한 후,\n",
    "# a가 아니라면 답안에 작성\n",
    "\n",
    "result = ''\n",
    "for char in word:\n",
    "    if char != 'a':\n",
    "        result = result + char\n",
    "        #result + char에서 순서를 바꾸면 역순이 됨\n",
    "    \n",
    "\n",
    "print(result)"
   ]
  },
  {
   "cell_type": "markdown",
   "metadata": {
    "colab_type": "text",
    "id": "vxG9ePyg06Fh"
   },
   "source": [
    "## 단어 뒤집기\n",
    "\n",
    "> 입력으로 짧은 영어단어 word가 주어질 때, 해당 단어를 역순으로 뒤집은 결과를 출력하시오.\n",
    "\n",
    "---\n",
    "```\n",
    "[입력 예시]\n",
    "apple\n",
    "\n",
    "[출력 예시]\n",
    "elppa\n",
    "```"
   ]
  },
  {
   "cell_type": "code",
   "execution_count": 21,
   "metadata": {
    "colab": {
     "base_uri": "https://localhost:8080/",
     "height": 53
    },
    "colab_type": "code",
    "executionInfo": {
     "elapsed": 4922,
     "status": "ok",
     "timestamp": 1595296058203,
     "user": {
      "displayName": "골드시티라모스",
      "photoUrl": "",
      "userId": "13726654604135759746"
     },
     "user_tz": -540
    },
    "id": "Cm3LJUiR06Fh",
    "outputId": "cb5078f3-1873-4a76-8ded-dda2a1100143"
   },
   "outputs": [
    {
     "name": "stdout",
     "output_type": "stream",
     "text": [
      "단어를 입력해주세욤 : apple\n",
      "elppa\n"
     ]
    }
   ],
   "source": [
    "word = input('단어를 입력해주세욤 : ')\n",
    "\n",
    "# 아래에 코드를 작성하시오.\n",
    "#rint(word[::-1])\n",
    "## result = ''\n",
    "##  for char in word:\n",
    "##      result = char + result\n",
    "    \n",
    "##  print(result)\n",
    "\n",
    "#맨 뒷문자부터 확인해서 작성하는 방법\n",
    "reversed_word = ''\n",
    "for index in range(len(word) - 1, -1, -1):\n",
    "    char = word[index]\n",
    "    reversed_word += char\n",
    "print(reversed_word)\n",
    "    \n",
    "    \n",
    "    "
   ]
  }
 ],
 "metadata": {
  "colab": {
   "collapsed_sections": [],
   "name": "0721_practice1.ipynb",
   "provenance": []
  },
  "kernelspec": {
   "display_name": "Python 3",
   "language": "python",
   "name": "python3"
  },
  "language_info": {
   "codemirror_mode": {
    "name": "ipython",
    "version": 3
   },
   "file_extension": ".py",
   "mimetype": "text/x-python",
   "name": "python",
   "nbconvert_exporter": "python",
   "pygments_lexer": "ipython3",
   "version": "3.7.7"
  },
  "toc": {
   "base_numbering": 1,
   "nav_menu": {},
   "number_sections": true,
   "sideBar": true,
   "skip_h1_title": false,
   "title_cell": "Table of Contents",
   "title_sidebar": "Contents",
   "toc_cell": false,
   "toc_position": {},
   "toc_section_display": true,
   "toc_window_display": false
  }
 },
 "nbformat": 4,
 "nbformat_minor": 1
}
